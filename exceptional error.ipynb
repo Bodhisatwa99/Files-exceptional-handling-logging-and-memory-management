{
 "cells": [
  {
   "cell_type": "code",
   "execution_count": 29,
   "id": "f02b2603-d6d4-4d6b-8335-8f30300e8b1e",
   "metadata": {},
   "outputs": [],
   "source": [
    "# 1. Open the file in write mode ('w')\n",
    "file = open(\"my_new_file.txt\", \"w\") \n",
    "\n",
    "# 2. Write a string to the file\n",
    "file.write(\"Hello, I am Bodhisatwa.\")\n",
    "\n",
    "# 3. Close the file (very important!)\n",
    "file.close()"
   ]
  },
  {
   "cell_type": "code",
   "execution_count": 30,
   "id": "c8fd5e95-d7e4-4aea-8efb-eb7cb5700475",
   "metadata": {},
   "outputs": [
    {
     "name": "stdout",
     "output_type": "stream",
     "text": [
      "Hello, I am Bodhisatwa."
     ]
    }
   ],
   "source": [
    "#2\n",
    "with open('my_new_file.txt', 'r') as file:\n",
    "    for line in file:\n",
    "        print(line, end='') "
   ]
  },
  {
   "cell_type": "code",
   "execution_count": 31,
   "id": "ad539582-9faa-4a18-af92-ec6d8efa9fc6",
   "metadata": {},
   "outputs": [
    {
     "ename": "IndentationError",
     "evalue": "expected an indented block after 'with' statement on line 3 (1966747086.py, line 5)",
     "output_type": "error",
     "traceback": [
      "\u001b[1;36m  Cell \u001b[1;32mIn[31], line 5\u001b[1;36m\u001b[0m\n\u001b[1;33m    except FileNotFoundError:\u001b[0m\n\u001b[1;37m                             ^\u001b[0m\n\u001b[1;31mIndentationError\u001b[0m\u001b[1;31m:\u001b[0m expected an indented block after 'with' statement on line 3\n"
     ]
    }
   ],
   "source": [
    "#3\n",
    "try:\n",
    "    with open('nonexistent_file.txt', 'r') as file:\n",
    "    \n",
    "except FileNotFoundError:\n",
    "    print(\"File not found.\")"
   ]
  },
  {
   "cell_type": "code",
   "execution_count": 32,
   "id": "8a9d9872-ca5d-42a5-ab9e-ef56eaa8ead7",
   "metadata": {},
   "outputs": [
    {
     "name": "stdout",
     "output_type": "stream",
     "text": [
      "File copied from 'source.txt' to 'destination.txt'\n"
     ]
    }
   ],
   "source": [
    "#4\n",
    "def copy_file(source_file, destination_file):\n",
    "    try:\n",
    "        with open(source_file, 'r') as source, open(destination_file, 'w') as destination:\n",
    "            for line in source:\n",
    "                destination.write(line)\n",
    "        print(f\"File copied from '{source_file}' to '{destination_file}'\")\n",
    "    except FileNotFoundError:\n",
    "        print(\"Source file not found.\")\n",
    "\n",
    "copy_file('source.txt', 'destination.txt')"
   ]
  },
  {
   "cell_type": "code",
   "execution_count": 33,
   "id": "09afbbd2-72c8-4988-b51c-2092d25ca27a",
   "metadata": {},
   "outputs": [
    {
     "name": "stdout",
     "output_type": "stream",
     "text": [
      "Cannot divide by zero.\n"
     ]
    }
   ],
   "source": [
    "#5\n",
    "try:\n",
    "    result = 10 / 0\n",
    "except ZeroDivisionError:\n",
    "    print(\"Cannot divide by zero.\")"
   ]
  },
  {
   "cell_type": "code",
   "execution_count": 34,
   "id": "2fcffdb4-db47-489c-853f-045f4d649c9b",
   "metadata": {},
   "outputs": [],
   "source": [
    "#6\n",
    "import logging\n",
    "logging.basicConfig(filename='error_log.txt', level=logging.ERROR)\n",
    "\n",
    "try:\n",
    "    result = 10 / 0\n",
    "except ZeroDivisionError:\n",
    "    logging.error(\"Division by zero occurred.\")\n"
   ]
  },
  {
   "cell_type": "code",
   "execution_count": 35,
   "id": "b03e006c-dc0f-43fb-9614-3fd99717b78d",
   "metadata": {},
   "outputs": [],
   "source": [
    "#7\n",
    "import logging\n",
    "\n",
    "logging.basicConfig(level=logging.INFO)\n",
    "\n",
    "logging.info(\"This is an informational message.\")\n",
    "logging.warning(\"This is a warning message.\")\n",
    "logging.error(\"This is an error message.\")"
   ]
  },
  {
   "cell_type": "code",
   "execution_count": 36,
   "id": "472f20f9-784d-43eb-9b7f-54dcb75e0b16",
   "metadata": {},
   "outputs": [],
   "source": [
    "#8\n",
    "try:\n",
    "    with open('some_file.txt', 'r') as file:\n",
    "        \n",
    "        for line in file: \n",
    "            print(line)\n",
    "except FileNotFoundError:\n",
    "    print(\"Error: File not found.\")\n",
    "except PermissionError:\n",
    "    print(\"Error: Permission denied.\")\n",
    "except Exception as e:\n",
    "    print(f\"An unexpected error occurred: {e}\")"
   ]
  },
  {
   "cell_type": "code",
   "execution_count": 37,
   "id": "4175aeeb-684f-4ef5-b40e-a57a40807fc3",
   "metadata": {},
   "outputs": [
    {
     "name": "stdout",
     "output_type": "stream",
     "text": [
      "['New data to append.']\n"
     ]
    }
   ],
   "source": [
    "#9\n",
    "def file_to_list(filename):\n",
    "    lines = []\n",
    "    try:\n",
    "        with open(filename, 'r') as file:\n",
    "            for line in file:\n",
    "                lines.append(line.strip()) \n",
    "    except FileNotFoundError:\n",
    "        print(\"File not found.\")\n",
    "    return lines\n",
    "\n",
    "content = file_to_list('my_file.txt')\n",
    "print(content)"
   ]
  },
  {
   "cell_type": "code",
   "execution_count": 38,
   "id": "f1e3854f-39c6-4ab0-ad3d-76b2c800bb2f",
   "metadata": {},
   "outputs": [],
   "source": [
    "#10\n",
    "with open('my_file.txt', 'a') as file:\n",
    "    file.write(\"New data to append.\\n\")"
   ]
  },
  {
   "cell_type": "code",
   "execution_count": 39,
   "id": "25371ee3-7c07-4c47-ba3d-59269b250e53",
   "metadata": {},
   "outputs": [
    {
     "name": "stdout",
     "output_type": "stream",
     "text": [
      "Key not found in dictionary.\n"
     ]
    }
   ],
   "source": [
    "#11\n",
    "my_dict = {'a': 1, 'b': 2}\n",
    "\n",
    "try:\n",
    "    value = my_dict['c']\n",
    "except KeyError:\n",
    "    print(\"Key not found in dictionary.\")"
   ]
  },
  {
   "cell_type": "code",
   "execution_count": 40,
   "id": "29ca1db7-8e0a-41b0-b074-1a634cf01877",
   "metadata": {},
   "outputs": [
    {
     "name": "stdin",
     "output_type": "stream",
     "text": [
      "Enter a number:  21\n"
     ]
    },
    {
     "name": "stdout",
     "output_type": "stream",
     "text": [
      "0.47619047619047616\n"
     ]
    }
   ],
   "source": [
    "#12\n",
    "try:\n",
    "    x = int(input(\"Enter a number: \"))\n",
    "    result = 10 / x\n",
    "    print(result)\n",
    "except ValueError:\n",
    "    print(\"Invalid input. Please enter a number.\")\n",
    "except ZeroDivisionError:\n",
    "    print(\"Cannot divide by zero.\")\n",
    "except Exception as e:\n",
    "    print(f\"An unexpected error occurred: {e}\")"
   ]
  },
  {
   "cell_type": "code",
   "execution_count": 41,
   "id": "a8b69c3a-cd3b-476d-b19c-8200c3ee33c2",
   "metadata": {},
   "outputs": [
    {
     "name": "stdout",
     "output_type": "stream",
     "text": [
      "New data to append.\n",
      "New data to append.\n",
      "\n"
     ]
    }
   ],
   "source": [
    "#13\n",
    "import os\n",
    "\n",
    "if os.path.exists('my_file.txt'):\n",
    "    with open('my_file.txt', 'r') as file:\n",
    "        content = file.read()\n",
    "        print(content)\n",
    "else:\n",
    "    print(\"File does not exist.\")"
   ]
  },
  {
   "cell_type": "code",
   "execution_count": 42,
   "id": "bb6a5a6b-3ef1-44a0-84cc-f7f1e7985649",
   "metadata": {},
   "outputs": [],
   "source": [
    "#14\n",
    "import logging\n",
    "\n",
    "logging.basicConfig(filename='app.log', level=logging.INFO, \n",
    "                    format='%(asctime)s - %(levelname)s - %(message)s')\n",
    "\n",
    "logging.info(\"Application started.\")\n",
    "\n",
    "try:\n",
    "    result = 10 / 0\n",
    "except ZeroDivisionError:\n",
    "    logging.error(\"Division by zero occurred.\")\n",
    "\n",
    "logging.info(\"Application finished.\")"
   ]
  },
  {
   "cell_type": "code",
   "execution_count": 43,
   "id": "b1bfbae9-0f09-46dc-8340-718e849515cb",
   "metadata": {},
   "outputs": [
    {
     "name": "stdout",
     "output_type": "stream",
     "text": [
      "New data to append.\n",
      "New data to append.\n",
      "\n"
     ]
    }
   ],
   "source": [
    "#15\n",
    "def print_file_content(filename):\n",
    "    try:\n",
    "        with open(filename, 'r') as file:\n",
    "            content = file.read()\n",
    "            if content:\n",
    "                print(content)\n",
    "            else:\n",
    "                print(\"File is empty.\")\n",
    "    except FileNotFoundError:\n",
    "        print(\"File not found.\")\n",
    "\n",
    "print_file_content('my_file.txt')"
   ]
  },
  {
   "cell_type": "code",
   "execution_count": 44,
   "id": "0ec60836-0228-4219-b5dc-f790d07fbce8",
   "metadata": {},
   "outputs": [
    {
     "name": "stdout",
     "output_type": "stream",
     "text": [
      "ERROR: Could not find file C:\\Users\\Bodhisatwa Maharana\\AppData\\Local\\Temp\\ipykernel_30224\\2721642239.py\n"
     ]
    },
    {
     "data": {
      "text/plain": [
       "499999500000"
      ]
     },
     "execution_count": 44,
     "metadata": {},
     "output_type": "execute_result"
    }
   ],
   "source": [
    "#16\n",
    "from memory_profiler import profile\n",
    "\n",
    "@profile\n",
    "def my_function():\n",
    "    my_list = [i for i in range(1000000)]\n",
    "    return sum(my_list)\n",
    "\n",
    "my_function()"
   ]
  },
  {
   "cell_type": "code",
   "execution_count": 45,
   "id": "eb847758-7e20-4331-aea7-50f24883822c",
   "metadata": {},
   "outputs": [
    {
     "name": "stdout",
     "output_type": "stream",
     "text": [
      "Numbers written to numbers.txt\n"
     ]
    }
   ],
   "source": [
    "#17\n",
    "def write_numbers_to_file(numbers, filename):\n",
    "    try:\n",
    "        with open(filename, 'w') as file:\n",
    "            for num in numbers:\n",
    "                file.write(str(num) + '\\n')\n",
    "        print(f\"Numbers written to {filename}\")\n",
    "    except Exception as e:\n",
    "        print(f\"An error occurred: {e}\")\n",
    "\n",
    "numbers = [1, 2, 3, 4, 5]\n",
    "write_numbers_to_file(numbers, 'numbers.txt')"
   ]
  },
  {
   "cell_type": "code",
   "execution_count": null,
   "id": "732d350d-fc71-4bd8-9ba5-392ab51a539f",
   "metadata": {},
   "outputs": [],
   "source": [
    "#18\n",
    "import logging\n",
    "from logging.handlers import RotatingFileHandler\n",
    "\n",
    "def setup_logging(filename='app.log', max_bytes=1024 * 1024, backup_count=5):\n",
    "    logger = logging.getLogger()\n",
    "    logger.setLevel(logging.INFO)\n",
    "\n",
    "    handler = RotatingFileHandler(filename, maxBytes=max_bytes, backupCount=backup_count)\n",
    "    formatter = logging.Formatter('%(asctime)s - %(levelname)s - %(message)s')\n",
    "    handler.setFormatter(formatter)\n",
    "\n",
    "    logger.addHandler(handler)\n",
    "\n",
    "setup_logging()\n",
    "\n",
    "logging.info(\"Application started.\")\n",
    "logging.info(\"Application finished.\")"
   ]
  },
  {
   "cell_type": "code",
   "execution_count": 46,
   "id": "5f4452ad-8777-4375-9f14-d26385415e8a",
   "metadata": {},
   "outputs": [
    {
     "name": "stdout",
     "output_type": "stream",
     "text": [
      "IndexError: Index out of range.\n",
      "KeyError: Key not found.\n"
     ]
    }
   ],
   "source": [
    "#19\n",
    "def access_data(data, index=None, key=None):\n",
    "    try:\n",
    "        if index is not None:\n",
    "            value = data[index]\n",
    "        elif key is not None:\n",
    "            value = data[key]\n",
    "        print(f\"Value: {value}\")\n",
    "    except IndexError:\n",
    "        print(\"IndexError: Index out of range.\")\n",
    "    except KeyError:\n",
    "        print(\"KeyError: Key not found.\")\n",
    "\n",
    "my_list = [1, 2, 3]\n",
    "my_dict = {'a': 1, 'b': 2}\n",
    "\n",
    "access_data(my_list, index=5)\n",
    "access_data(my_dict, key='c')"
   ]
  },
  {
   "cell_type": "code",
   "execution_count": 48,
   "id": "50ae1ffd-1151-48eb-8d66-0c4fd00de39f",
   "metadata": {},
   "outputs": [
    {
     "name": "stdout",
     "output_type": "stream",
     "text": [
      "New data to append.\n",
      "New data to append.\n",
      "\n"
     ]
    }
   ],
   "source": [
    "#20\n",
    "def read_file_with_context(filename):\n",
    "    try:\n",
    "        with open(filename, 'r') as file:\n",
    "            content = file.read()\n",
    "            print(content)\n",
    "    except FileNotFoundError:\n",
    "        print(\"File not found.\")\n",
    "\n",
    "read_file_with_context('my_file.txt')"
   ]
  },
  {
   "cell_type": "code",
   "execution_count": 47,
   "id": "50a47bf4-edc9-46fe-88f5-e28bbc521715",
   "metadata": {},
   "outputs": [
    {
     "name": "stdout",
     "output_type": "stream",
     "text": [
      "The word 'python' appears 0 times.\n"
     ]
    }
   ],
   "source": [
    "#21\n",
    "def count_word_occurrences(filename, word):\n",
    "    try:\n",
    "        with open(filename, 'r') as file:\n",
    "            content = file.read().lower() \n",
    "            count = content.count(word.lower())\n",
    "            print(f\"The word '{word}' appears {count} times.\")\n",
    "    except FileNotFoundError:\n",
    "        print(\"File not found.\")\n",
    "\n",
    "count_word_occurrences('my_file.txt', 'python')"
   ]
  },
  {
   "cell_type": "code",
   "execution_count": 49,
   "id": "bed7b285-d43f-47f7-90f3-f5dac50aa8ac",
   "metadata": {},
   "outputs": [
    {
     "name": "stdout",
     "output_type": "stream",
     "text": [
      "File is not empty.\n"
     ]
    }
   ],
   "source": [
    "#22\n",
    "import os\n",
    "\n",
    "def check_file_empty(filename):\n",
    "    if os.path.exists(filename) and os.path.getsize(filename) == 0:\n",
    "        return True\n",
    "    return False\n",
    "\n",
    "if check_file_empty('my_file.txt'):\n",
    "    print(\"File is empty.\")\n",
    "else:\n",
    "    print(\"File is not empty.\")"
   ]
  },
  {
   "cell_type": "code",
   "execution_count": 50,
   "id": "1ca51cd3-6c5d-4d82-8a7e-12cb7248f929",
   "metadata": {},
   "outputs": [
    {
     "name": "stdout",
     "output_type": "stream",
     "text": [
      "\n"
     ]
    }
   ],
   "source": [
    "#23\n",
    "import logging\n",
    "\n",
    "logging.basicConfig(filename='file_errors.log', level=logging.ERROR,\n",
    "                    format='%(asctime)s - %(levelname)s - %(message)s')\n",
    "\n",
    "def read_file(filename):\n",
    "    try:\n",
    "        with open(filename, 'r') as file:\n",
    "            content = file.read()\n",
    "            print(content)\n",
    "    except FileNotFoundError:\n",
    "        logging.error(f\"File not found: {filename}\")\n",
    "    except Exception as e:\n",
    "        logging.error(f\"An error occurred: {e}\")\n",
    "\n",
    "read_file('nonexistent_file.txt')"
   ]
  },
  {
   "cell_type": "code",
   "execution_count": null,
   "id": "acf18305-199f-4084-9bcf-e37b9756a881",
   "metadata": {},
   "outputs": [],
   "source": []
  },
  {
   "cell_type": "code",
   "execution_count": null,
   "id": "a1b19a73-9d4e-4c4a-9547-f0daad7a1e1e",
   "metadata": {},
   "outputs": [],
   "source": []
  }
 ],
 "metadata": {
  "kernelspec": {
   "display_name": "Python 3 (ipykernel)",
   "language": "python",
   "name": "python3"
  },
  "language_info": {
   "codemirror_mode": {
    "name": "ipython",
    "version": 3
   },
   "file_extension": ".py",
   "mimetype": "text/x-python",
   "name": "python",
   "nbconvert_exporter": "python",
   "pygments_lexer": "ipython3",
   "version": "3.11.0"
  }
 },
 "nbformat": 4,
 "nbformat_minor": 5
}
